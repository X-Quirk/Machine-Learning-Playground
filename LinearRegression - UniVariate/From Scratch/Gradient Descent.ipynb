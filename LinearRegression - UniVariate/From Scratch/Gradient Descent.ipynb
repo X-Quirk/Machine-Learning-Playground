{
 "cells": [
  {
   "cell_type": "code",
   "execution_count": 1,
   "metadata": {},
   "outputs": [],
   "source": [
    "import numpy as np\n",
    "from jupyterthemes import jtplot\n",
    "jtplot.style()\n",
    "import matplotlib.pyplot as plt"
   ]
  },
  {
   "cell_type": "code",
   "execution_count": 11,
   "metadata": {},
   "outputs": [],
   "source": [
    "def gradientDescent(x,y):\n",
    "    theta0 = theta1 = 0\n",
    "    iterartions = 10000\n",
    "    alpha = 0.001\n",
    "    m = len(x)\n",
    "    for i in range(iterartions):\n",
    "        h = theta0 + theta1*x\n",
    "        cost = 1/(2*m) * sum([val**2 for val in (h-y)])\n",
    "        dtheta0 =  sum([i for i in (h-y)])\n",
    "        dtheta1 =  sum(x * np.array(h-y))\n",
    "        temp0 = theta0 - alpha*(1/m)*dtheta0\n",
    "        temp1 = theta1 - alpha*(1/m)*dtheta1\n",
    "        theta0 = temp0\n",
    "        theta1 = temp1\n",
    "    return theta0,theta1"
   ]
  },
  {
   "cell_type": "code",
   "execution_count": 18,
   "metadata": {},
   "outputs": [
    {
     "data": {
      "text/plain": [
       "[<matplotlib.lines.Line2D at 0x22517fee040>]"
      ]
     },
     "execution_count": 18,
     "metadata": {},
     "output_type": "execute_result"
    },
    {
     "data": {
      "image/png": "[encoded data removed]",
      "text/plain": [
       "<Figure size 432x288 with 1 Axes>"
      ]
     },
     "metadata": {},
     "output_type": "display_data"
    }
   ],
   "source": [
    "x = np.array([1,2,3,4,5])\n",
    "y = np.array([5,7,9,11,13])\n",
    "theta = gradientDescent(x,y)\n",
    "plt.scatter(x,y,color='cyan',marker='x',s=80)\n",
    "plt.plot(theta[0]+theta[1]*x)"
   ]
  },
  {
   "cell_type": "code",
   "execution_count": null,
   "metadata": {},
   "outputs": [],
   "source": []
  }
 ],
 "metadata": {
  "kernelspec": {
   "display_name": "Python 3",
   "language": "python",
   "name": "python3"
  },
  "language_info": {
   "codemirror_mode": {
    "name": "ipython",
    "version": 3
   },
   "file_extension": ".py",
   "mimetype": "text/x-python",
   "name": "python",
   "nbconvert_exporter": "python",
   "pygments_lexer": "ipython3",
   "version": "3.8.5"
  }
 },
 "nbformat": 4,
 "nbformat_minor": 4
}
