{
 "cells": [
  {
   "cell_type": "code",
   "execution_count": 107,
   "metadata": {},
   "outputs": [],
   "source": [
    "# Iris Flower Predictor"
   ]
  },
  {
   "cell_type": "code",
   "execution_count": 108,
   "metadata": {},
   "outputs": [],
   "source": [
    "import numpy as np\n",
    "import pandas as pd\n",
    "import tensorflow as tf\n",
    "import os\n",
    "import matplotlib.pyplot as plt\n",
    "from jupyterthemes import jtplot\n",
    "jtplot.style()"
   ]
  },
  {
   "cell_type": "markdown",
   "metadata": {},
   "source": [
    "# Load Data"
   ]
  },
  {
   "cell_type": "code",
   "execution_count": 109,
   "metadata": {},
   "outputs": [
    {
     "name": "stdout",
     "output_type": "stream",
     "text": [
      "Local copy of the Training dataset file: C:\\Users\\LENOVO\\.keras\\datasets\\iris_training.csv\n",
      "Local copy of the Test dataset file: C:\\Users\\LENOVO\\.keras\\datasets\\iris_test.csv\n"
     ]
    }
   ],
   "source": [
    "train_dataset_url = \"https://storage.googleapis.com/download.tensorflow.org/data/iris_training.csv\"\n",
    "\n",
    "train_dataset_address = tf.keras.utils.get_file(fname=os.path.basename(train_dataset_url),\n",
    "                                           origin=train_dataset_url)\n",
    "test_dataset_url = \"https://storage.googleapis.com/download.tensorflow.org/data/iris_test.csv\"\n",
    "\n",
    "test_dataset_address = tf.keras.utils.get_file(fname=os.path.basename(test_dataset_url),\n",
    "                                           origin=test_dataset_url)\n",
    "\n",
    "print(\"Local copy of the Training dataset file: {}\".format(train_dataset_address))\n",
    "print(\"Local copy of the Test dataset file: {}\".format(test_dataset_address))"
   ]
  },
  {
   "cell_type": "code",
   "execution_count": 110,
   "metadata": {},
   "outputs": [],
   "source": [
    "column_names = ['sepal_length', 'sepal_width', 'petal_length', 'petal_width', 'species']\n",
    "\n",
    "species = ['Setosa', 'Versicolor', 'Virginica']"
   ]
  },
  {
   "cell_type": "code",
   "execution_count": 111,
   "metadata": {},
   "outputs": [],
   "source": [
    "x_train = pd.read_csv(train_dataset_address,names=column_names,header=0)\n",
    "x_test =  pd.read_csv(test_dataset_address,names=column_names,header=0)\n",
    "\n",
    "# x_train = x_train.apply(lambda x: (x - x.min()) / (x.max() - x.min()))\n",
    "# x_test = x_test.apply(lambda x: (x - x.min()) / (x.max() - x.min()))\n",
    "\n",
    "y_train = x_train.pop('species')\n",
    "y_test = x_test.pop('species')"
   ]
  },
  {
   "cell_type": "markdown",
   "metadata": {},
   "source": [
    "# Input Function "
   ]
  },
  {
   "cell_type": "code",
   "execution_count": 112,
   "metadata": {},
   "outputs": [],
   "source": [
    "def input_fn(features, labels, training=True, batch_size=256):\n",
    "    # Convert the inputs to a Dataset.\n",
    "    dataset = tf.data.Dataset.from_tensor_slices((dict(features), labels))\n",
    "\n",
    "    # Shuffle and repeat if you are in training mode.\n",
    "    if training:\n",
    "        dataset = dataset.shuffle(1000).repeat()\n",
    "    \n",
    "    return dataset.batch(batch_size)"
   ]
  },
  {
   "cell_type": "code",
   "execution_count": 113,
   "metadata": {},
   "outputs": [
    {
     "name": "stdout",
     "output_type": "stream",
     "text": [
      "[NumericColumn(key='sepal_length', shape=(1,), default_value=None, dtype=tf.float32, normalizer_fn=None), NumericColumn(key='sepal_width', shape=(1,), default_value=None, dtype=tf.float32, normalizer_fn=None), NumericColumn(key='petal_length', shape=(1,), default_value=None, dtype=tf.float32, normalizer_fn=None), NumericColumn(key='petal_width', shape=(1,), default_value=None, dtype=tf.float32, normalizer_fn=None)]\n"
     ]
    }
   ],
   "source": [
    "# Feature columns describe how to use the input.\n",
    "feature_columns = []\n",
    "for key in x_train.keys():\n",
    "    feature_columns.append(tf.feature_column.numeric_column(key=key))\n",
    "print(feature_columns)"
   ]
  },
  {
   "cell_type": "markdown",
   "metadata": {},
   "source": [
    "# Model Creation"
   ]
  },
  {
   "cell_type": "code",
   "execution_count": 114,
   "metadata": {},
   "outputs": [
    {
     "name": "stdout",
     "output_type": "stream",
     "text": [
      "INFO:tensorflow:Using default config.\n",
      "WARNING:tensorflow:Using temporary folder as model directory: C:\\Users\\LENOVO\\AppData\\Local\\Temp\\tmp3uez1qn2\n",
      "INFO:tensorflow:Using config: {'_model_dir': 'C:\\\\Users\\\\LENOVO\\\\AppData\\\\Local\\\\Temp\\\\tmp3uez1qn2', '_tf_random_seed': None, '_save_summary_steps': 100, '_save_checkpoints_steps': None, '_save_checkpoints_secs': 600, '_session_config': allow_soft_placement: true\n",
      "graph_options {\n",
      "  rewrite_options {\n",
      "    meta_optimizer_iterations: ONE\n",
      "  }\n",
      "}\n",
      ", '_keep_checkpoint_max': 5, '_keep_checkpoint_every_n_hours': 10000, '_log_step_count_steps': 100, '_train_distribute': None, '_device_fn': None, '_protocol': None, '_eval_distribute': None, '_experimental_distribute': None, '_experimental_max_worker_delay_secs': None, '_session_creation_timeout_secs': 7200, '_checkpoint_save_graph_def': True, '_service': None, '_cluster_spec': ClusterSpec({}), '_task_type': 'worker', '_task_id': 0, '_global_id_in_cluster': 0, '_master': '', '_evaluation_master': '', '_is_chief': True, '_num_ps_replicas': 0, '_num_worker_replicas': 1}\n"
     ]
    }
   ],
   "source": [
    "# Build a DNN with 2 hidden layers with 30 and 10 hidden nodes each.\n",
    "classifier = tf.estimator.DNNClassifier(\n",
    "    feature_columns=feature_columns,\n",
    "    # Two hidden layers of 30 and 10 nodes respectively.\n",
    "    hidden_units=[30, 10],\n",
    "    # The model must choose between 3 classes.\n",
    "    n_classes=3)"
   ]
  },
  {
   "cell_type": "code",
   "execution_count": 115,
   "metadata": {},
   "outputs": [
    {
     "name": "stdout",
     "output_type": "stream",
     "text": [
      "INFO:tensorflow:Calling model_fn.\n",
      "INFO:tensorflow:Done calling model_fn.\n",
      "INFO:tensorflow:Create CheckpointSaverHook.\n",
      "INFO:tensorflow:Graph was finalized.\n",
      "INFO:tensorflow:Running local_init_op.\n",
      "INFO:tensorflow:Done running local_init_op.\n",
      "INFO:tensorflow:Calling checkpoint listeners before saving checkpoint 0...\n",
      "INFO:tensorflow:Saving checkpoints for 0 into C:\\Users\\LENOVO\\AppData\\Local\\Temp\\tmp3uez1qn2\\model.ckpt.\n",
      "INFO:tensorflow:Calling checkpoint listeners after saving checkpoint 0...\n",
      "INFO:tensorflow:loss = 1.1818593, step = 0\n",
      "INFO:tensorflow:global_step/sec: 196.067\n",
      "INFO:tensorflow:loss = 1.0421673, step = 100 (0.510 sec)\n",
      "INFO:tensorflow:global_step/sec: 172.399\n",
      "INFO:tensorflow:loss = 1.0036216, step = 200 (0.580 sec)\n",
      "INFO:tensorflow:global_step/sec: 144.982\n",
      "INFO:tensorflow:loss = 0.98209715, step = 300 (0.690 sec)\n",
      "INFO:tensorflow:global_step/sec: 152.764\n",
      "INFO:tensorflow:loss = 0.96219987, step = 400 (0.660 sec)\n",
      "INFO:tensorflow:global_step/sec: 210.498\n",
      "INFO:tensorflow:loss = 0.9412441, step = 500 (0.469 sec)\n",
      "INFO:tensorflow:global_step/sec: 199.92\n",
      "INFO:tensorflow:loss = 0.9341259, step = 600 (0.500 sec)\n",
      "INFO:tensorflow:global_step/sec: 166.667\n",
      "INFO:tensorflow:loss = 0.91637087, step = 700 (0.610 sec)\n",
      "INFO:tensorflow:global_step/sec: 181.795\n",
      "INFO:tensorflow:loss = 0.93030804, step = 800 (0.540 sec)\n",
      "INFO:tensorflow:global_step/sec: 196.12\n",
      "INFO:tensorflow:loss = 0.9051044, step = 900 (0.510 sec)\n",
      "INFO:tensorflow:global_step/sec: 204.017\n",
      "INFO:tensorflow:loss = 0.91220653, step = 1000 (0.490 sec)\n",
      "INFO:tensorflow:global_step/sec: 204.092\n",
      "INFO:tensorflow:loss = 0.89435446, step = 1100 (0.500 sec)\n",
      "INFO:tensorflow:global_step/sec: 199.973\n",
      "INFO:tensorflow:loss = 0.8870322, step = 1200 (0.490 sec)\n",
      "INFO:tensorflow:global_step/sec: 199.922\n",
      "INFO:tensorflow:loss = 0.8781875, step = 1300 (0.500 sec)\n",
      "INFO:tensorflow:global_step/sec: 212.997\n",
      "INFO:tensorflow:loss = 0.8675206, step = 1400 (0.469 sec)\n",
      "INFO:tensorflow:global_step/sec: 208.27\n",
      "INFO:tensorflow:loss = 0.8731713, step = 1500 (0.480 sec)\n",
      "INFO:tensorflow:global_step/sec: 212.673\n",
      "INFO:tensorflow:loss = 0.86242855, step = 1600 (0.480 sec)\n",
      "INFO:tensorflow:global_step/sec: 208.383\n",
      "INFO:tensorflow:loss = 0.8527767, step = 1700 (0.470 sec)\n",
      "INFO:tensorflow:global_step/sec: 212.661\n",
      "INFO:tensorflow:loss = 0.85669756, step = 1800 (0.480 sec)\n",
      "INFO:tensorflow:global_step/sec: 204.372\n",
      "INFO:tensorflow:loss = 0.8453905, step = 1900 (0.480 sec)\n",
      "INFO:tensorflow:global_step/sec: 208.08\n",
      "INFO:tensorflow:loss = 0.8444562, step = 2000 (0.481 sec)\n",
      "INFO:tensorflow:global_step/sec: 212.797\n",
      "INFO:tensorflow:loss = 0.83782995, step = 2100 (0.470 sec)\n",
      "INFO:tensorflow:global_step/sec: 217.475\n",
      "INFO:tensorflow:loss = 0.8420368, step = 2200 (0.470 sec)\n",
      "INFO:tensorflow:global_step/sec: 208.214\n",
      "INFO:tensorflow:loss = 0.83223295, step = 2300 (0.470 sec)\n",
      "INFO:tensorflow:global_step/sec: 217.563\n",
      "INFO:tensorflow:loss = 0.8312671, step = 2400 (0.460 sec)\n",
      "INFO:tensorflow:global_step/sec: 222.087\n",
      "INFO:tensorflow:loss = 0.8217918, step = 2500 (0.460 sec)\n",
      "INFO:tensorflow:global_step/sec: 204.008\n",
      "INFO:tensorflow:loss = 0.8261337, step = 2600 (0.481 sec)\n",
      "INFO:tensorflow:global_step/sec: 212.918\n",
      "INFO:tensorflow:loss = 0.8126154, step = 2700 (0.470 sec)\n",
      "INFO:tensorflow:global_step/sec: 236.113\n",
      "INFO:tensorflow:loss = 0.81583655, step = 2800 (0.432 sec)\n",
      "INFO:tensorflow:global_step/sec: 222.045\n",
      "INFO:tensorflow:loss = 0.8110934, step = 2900 (0.442 sec)\n",
      "INFO:tensorflow:global_step/sec: 221.197\n",
      "INFO:tensorflow:loss = 0.805526, step = 3000 (0.452 sec)\n",
      "INFO:tensorflow:global_step/sec: 227.246\n",
      "INFO:tensorflow:loss = 0.79095966, step = 3100 (0.440 sec)\n",
      "INFO:tensorflow:global_step/sec: 220.716\n",
      "INFO:tensorflow:loss = 0.7921057, step = 3200 (0.453 sec)\n",
      "INFO:tensorflow:global_step/sec: 219.298\n",
      "INFO:tensorflow:loss = 0.79143983, step = 3300 (0.458 sec)\n",
      "INFO:tensorflow:global_step/sec: 224.412\n",
      "INFO:tensorflow:loss = 0.77391684, step = 3400 (0.452 sec)\n",
      "INFO:tensorflow:global_step/sec: 222.486\n",
      "INFO:tensorflow:loss = 0.7696679, step = 3500 (0.449 sec)\n",
      "INFO:tensorflow:global_step/sec: 260.577\n",
      "INFO:tensorflow:loss = 0.7732342, step = 3600 (0.376 sec)\n",
      "INFO:tensorflow:global_step/sec: 225.058\n",
      "INFO:tensorflow:loss = 0.76631665, step = 3700 (0.453 sec)\n",
      "INFO:tensorflow:global_step/sec: 223.487\n",
      "INFO:tensorflow:loss = 0.7438382, step = 3800 (0.447 sec)\n",
      "INFO:tensorflow:global_step/sec: 216.938\n",
      "INFO:tensorflow:loss = 0.7508745, step = 3900 (0.453 sec)\n",
      "INFO:tensorflow:global_step/sec: 219.298\n",
      "INFO:tensorflow:loss = 0.71859145, step = 4000 (0.464 sec)\n",
      "INFO:tensorflow:global_step/sec: 219.301\n",
      "INFO:tensorflow:loss = 0.6733058, step = 4100 (0.448 sec)\n",
      "INFO:tensorflow:global_step/sec: 225.282\n",
      "INFO:tensorflow:loss = 0.6615634, step = 4200 (0.452 sec)\n",
      "INFO:tensorflow:global_step/sec: 215.204\n",
      "INFO:tensorflow:loss = 0.6531179, step = 4300 (0.457 sec)\n",
      "INFO:tensorflow:global_step/sec: 223.24\n",
      "INFO:tensorflow:loss = 0.641113, step = 4400 (0.456 sec)\n",
      "INFO:tensorflow:global_step/sec: 284.09\n",
      "INFO:tensorflow:loss = 0.6275931, step = 4500 (0.344 sec)\n",
      "INFO:tensorflow:global_step/sec: 373.119\n",
      "INFO:tensorflow:loss = 0.6224046, step = 4600 (0.268 sec)\n",
      "INFO:tensorflow:global_step/sec: 287.435\n",
      "INFO:tensorflow:loss = 0.61578166, step = 4700 (0.356 sec)\n",
      "INFO:tensorflow:global_step/sec: 217.819\n",
      "INFO:tensorflow:loss = 0.608426, step = 4800 (0.451 sec)\n",
      "INFO:tensorflow:global_step/sec: 223.217\n",
      "INFO:tensorflow:loss = 0.59481037, step = 4900 (0.456 sec)\n",
      "INFO:tensorflow:Calling checkpoint listeners before saving checkpoint 5000...\n",
      "INFO:tensorflow:Saving checkpoints for 5000 into C:\\Users\\LENOVO\\AppData\\Local\\Temp\\tmp3uez1qn2\\model.ckpt.\n",
      "INFO:tensorflow:Calling checkpoint listeners after saving checkpoint 5000...\n",
      "INFO:tensorflow:Loss for final step: 0.5898182.\n"
     ]
    },
    {
     "data": {
      "text/plain": [
       "<tensorflow_estimator.python.estimator.canned.dnn.DNNClassifierV2 at 0x261dbeb6250>"
      ]
     },
     "execution_count": 115,
     "metadata": {},
     "output_type": "execute_result"
    }
   ],
   "source": [
    "classifier.train(\n",
    "    input_fn = lambda: input_fn(x_train, y_train, training=True),\n",
    "    steps=5000)\n",
    "# We include a lambda to avoid creating an inner function previously"
   ]
  },
  {
   "cell_type": "code",
   "execution_count": 116,
   "metadata": {},
   "outputs": [
    {
     "name": "stdout",
     "output_type": "stream",
     "text": [
      "INFO:tensorflow:Calling model_fn.\n",
      "INFO:tensorflow:Done calling model_fn.\n",
      "INFO:tensorflow:Starting evaluation at 2021-08-12T20:02:28\n",
      "INFO:tensorflow:Graph was finalized.\n",
      "INFO:tensorflow:Restoring parameters from C:\\Users\\LENOVO\\AppData\\Local\\Temp\\tmp3uez1qn2\\model.ckpt-5000\n",
      "INFO:tensorflow:Running local_init_op.\n",
      "INFO:tensorflow:Done running local_init_op.\n",
      "INFO:tensorflow:Inference Time : 0.36395s\n",
      "INFO:tensorflow:Finished evaluation at 2021-08-12-20:02:29\n",
      "INFO:tensorflow:Saving dict for global step 5000: accuracy = 0.9, average_loss = 0.62192446, global_step = 5000, loss = 0.62192446\n",
      "INFO:tensorflow:Saving 'checkpoint_path' summary for global step 5000: C:\\Users\\LENOVO\\AppData\\Local\\Temp\\tmp3uez1qn2\\model.ckpt-5000\n",
      "\n",
      " Accuracy: 0.900\n",
      "\n"
     ]
    }
   ],
   "source": [
    "eval_result = classifier.evaluate(\n",
    "    input_fn=lambda: input_fn(x_test, y_test, training=False))\n",
    "\n",
    "print('\\n Accuracy: {accuracy:0.3f}\\n'.format(**eval_result))"
   ]
  },
  {
   "cell_type": "code",
   "execution_count": null,
   "metadata": {},
   "outputs": [],
   "source": []
  }
 ],
 "metadata": {
  "kernelspec": {
   "display_name": "Python 3",
   "language": "python",
   "name": "python3"
  },
  "language_info": {
   "codemirror_mode": {
    "name": "ipython",
    "version": 3
   },
   "file_extension": ".py",
   "mimetype": "text/x-python",
   "name": "python",
   "nbconvert_exporter": "python",
   "pygments_lexer": "ipython3",
   "version": "3.8.5"
  }
 },
 "nbformat": 4,
 "nbformat_minor": 4
}
